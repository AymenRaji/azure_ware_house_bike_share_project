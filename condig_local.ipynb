{
 "cells": [
  {
   "cell_type": "code",
   "execution_count": 1,
   "metadata": {},
   "outputs": [
    {
     "name": "stdout",
     "output_type": "stream",
     "text": [
      "Requirement already satisfied: psycopg2-binary in /home/aymen/Desktop/azure_project/azure-data-warehouse-projectdatafiles/venv/lib/python3.11/site-packages (2.9.9)\n",
      "Collecting pandas\n",
      "  Obtaining dependency information for pandas from https://files.pythonhosted.org/packages/fc/a5/4d82be566f069d7a9a702dcdf6f9106df0e0b042e738043c0cc7ddd7e3f6/pandas-2.2.2-cp311-cp311-manylinux_2_17_x86_64.manylinux2014_x86_64.whl.metadata\n",
      "  Using cached pandas-2.2.2-cp311-cp311-manylinux_2_17_x86_64.manylinux2014_x86_64.whl.metadata (19 kB)\n",
      "Collecting numpy>=1.23.2 (from pandas)\n",
      "  Obtaining dependency information for numpy>=1.23.2 from https://files.pythonhosted.org/packages/ef/27/39622993e8688a1f05898a3c3b2836b856f79c06637ebd4b71cb35cc9b18/numpy-2.0.1-cp311-cp311-manylinux_2_17_x86_64.manylinux2014_x86_64.whl.metadata\n",
      "  Downloading numpy-2.0.1-cp311-cp311-manylinux_2_17_x86_64.manylinux2014_x86_64.whl.metadata (60 kB)\n",
      "\u001b[2K     \u001b[90m━━━━━━━━━━━━━━━━━━━━━━━━━━━━━━━━━━━━━━━\u001b[0m \u001b[32m60.9/60.9 kB\u001b[0m \u001b[31m381.4 kB/s\u001b[0m eta \u001b[36m0:00:00\u001b[0ma \u001b[36m0:00:01\u001b[0m\n",
      "\u001b[?25hRequirement already satisfied: python-dateutil>=2.8.2 in /home/aymen/Desktop/azure_project/azure-data-warehouse-projectdatafiles/venv/lib/python3.11/site-packages (from pandas) (2.9.0.post0)\n",
      "Requirement already satisfied: pytz>=2020.1 in /home/aymen/Desktop/azure_project/azure-data-warehouse-projectdatafiles/venv/lib/python3.11/site-packages (from pandas) (2024.1)\n",
      "Collecting tzdata>=2022.7 (from pandas)\n",
      "  Obtaining dependency information for tzdata>=2022.7 from https://files.pythonhosted.org/packages/65/58/f9c9e6be752e9fcb8b6a0ee9fb87e6e7a1f6bcab2cdc73f02bb7ba91ada0/tzdata-2024.1-py2.py3-none-any.whl.metadata\n",
      "  Using cached tzdata-2024.1-py2.py3-none-any.whl.metadata (1.4 kB)\n",
      "Requirement already satisfied: six>=1.5 in /home/aymen/Desktop/azure_project/azure-data-warehouse-projectdatafiles/venv/lib/python3.11/site-packages (from python-dateutil>=2.8.2->pandas) (1.16.0)\n",
      "Using cached pandas-2.2.2-cp311-cp311-manylinux_2_17_x86_64.manylinux2014_x86_64.whl (13.0 MB)\n",
      "Downloading numpy-2.0.1-cp311-cp311-manylinux_2_17_x86_64.manylinux2014_x86_64.whl (19.5 MB)\n",
      "\u001b[2K   \u001b[90m━━━━━━━━━━━━━━━━━━━━━━━━━━━━━━━━━━━━━━━━\u001b[0m \u001b[32m19.5/19.5 MB\u001b[0m \u001b[31m1.5 MB/s\u001b[0m eta \u001b[36m0:00:00\u001b[0m00:01\u001b[0m00:01\u001b[0mm\n",
      "\u001b[?25hUsing cached tzdata-2024.1-py2.py3-none-any.whl (345 kB)\n",
      "Installing collected packages: tzdata, numpy, pandas\n",
      "Successfully installed numpy-2.0.1 pandas-2.2.2 tzdata-2024.1\n"
     ]
    }
   ],
   "source": [
    "!pip install psycopg2-binary pandas\n"
   ]
  },
  {
   "cell_type": "code",
   "execution_count": 16,
   "metadata": {},
   "outputs": [
    {
     "name": "stdout",
     "output_type": "stream",
     "text": [
      "Connection established\n",
      "Tables in the database:\n",
      "rider\n",
      "payment\n",
      "station\n",
      "trip\n"
     ]
    }
   ],
   "source": [
    "import psycopg2\n",
    "import pandas as pd\n",
    "\n",
    "# Define your PostgreSQL connection details\n",
    "host = \"bikeridersproject.postgres.database.azure.com\"\n",
    "username = \"\"\n",
    "password = \"\"\n",
    "database = \"udacityproject\"\n",
    "\n",
    "# Establish a connection to the PostgreSQL database\n",
    "conn = psycopg2.connect(\n",
    "    host=host,\n",
    "    user=username,\n",
    "    password=password,\n",
    "    dbname=database\n",
    ")\n",
    "\n",
    "# Create a cursor object to interact with the database\n",
    "cursor = conn.cursor()\n",
    "print(\"Connection established\")\n",
    "\n",
    "# List all tables in the database\n",
    "cursor.execute(\"\"\"\n",
    "    SELECT table_name\n",
    "    FROM information_schema.tables\n",
    "    WHERE table_schema = 'public'\n",
    "\"\"\")\n",
    "tables = cursor.fetchall()\n",
    "print(\"Tables in the database:\")\n",
    "for table in tables:\n",
    "    print(table[0])\n",
    "\n",
    "# Close the cursor and the connection\n",
    "cursor.close()\n",
    "conn.close()\n"
   ]
  },
  {
   "cell_type": "code",
   "execution_count": 17,
   "metadata": {},
   "outputs": [
    {
     "name": "stdout",
     "output_type": "stream",
     "text": [
      "connection established\n",
      "Number of rows in rider: 75000\n",
      "Number of rows in payment: 1946607\n",
      "Number of rows in station: 838\n",
      "Number of rows in trip: 4584921\n"
     ]
    },
    {
     "name": "stderr",
     "output_type": "stream",
     "text": [
      "/tmp/ipykernel_79970/3184400959.py:46: UserWarning: pandas only supports SQLAlchemy connectable (engine/connection) or database string URI or sqlite3 DBAPI2 connection. Other DBAPI2 objects are not tested. Please consider using SQLAlchemy.\n",
      "  df = pd.read_sql_query(query, conn)\n"
     ]
    },
    {
     "name": "stdout",
     "output_type": "stream",
     "text": [
      "First 10 rows of rider:\n",
      "   rider_id      first       last                        address    birthday  \\\n",
      "0      1000      Diana      Clark            1200 Alyssa Squares  1989-02-13   \n",
      "1      1001   Jennifer      Smith                397 Diana Ferry  1976-08-10   \n",
      "2      1002      Karen      Smith      644 Brittany Row Apt. 097  1998-08-10   \n",
      "3      1003      Bryan    Roberts         996 Dickerson Turnpike  1999-03-29   \n",
      "4      1004      Jesse  Middleton         7009 Nathan Expressway  1969-04-11   \n",
      "5      1005  Christine  Rodriguez  224 Washington Mills Apt. 467  1974-08-27   \n",
      "6      1006     Alicia     Taylor              1137 Angela Locks  2004-01-30   \n",
      "7      1007   Benjamin  Fernandez              979 Phillips Ways  1988-01-11   \n",
      "8      1008       John   Crawford               7691 Evans Court  1987-02-21   \n",
      "9      1009   Victoria     Ritter        9922 Jim Crest Apt. 319  1981-02-07   \n",
      "\n",
      "  account_start_date account_end_date  is_member  \n",
      "0         2019-04-23             None       True  \n",
      "1         2019-11-01       2020-09-01       True  \n",
      "2         2022-02-04             None       True  \n",
      "3         2019-08-26             None      False  \n",
      "4         2019-09-14             None       True  \n",
      "5         2020-03-24             None      False  \n",
      "6         2020-11-27       2021-12-01       True  \n",
      "7         2016-12-11             None      False  \n",
      "8         2021-03-28       2021-07-01       True  \n",
      "9         2020-06-12       2021-11-01       True  \n",
      "First 10 rows of payment:\n",
      "   payment_id        date amount  rider_id\n",
      "0           1  2019-05-01  $9.00      1000\n",
      "1           2  2019-06-01  $9.00      1000\n",
      "2           3  2019-07-01  $9.00      1000\n",
      "3           4  2019-08-01  $9.00      1000\n",
      "4           5  2019-09-01  $9.00      1000\n",
      "5           6  2019-10-01  $9.00      1000\n",
      "6           7  2019-11-01  $9.00      1000\n",
      "7           8  2019-12-01  $9.00      1000\n",
      "8           9  2020-01-01  $9.00      1000\n",
      "9          10  2020-02-01  $9.00      1000\n"
     ]
    },
    {
     "name": "stderr",
     "output_type": "stream",
     "text": [
      "/tmp/ipykernel_79970/3184400959.py:46: UserWarning: pandas only supports SQLAlchemy connectable (engine/connection) or database string URI or sqlite3 DBAPI2 connection. Other DBAPI2 objects are not tested. Please consider using SQLAlchemy.\n",
      "  df = pd.read_sql_query(query, conn)\n",
      "/tmp/ipykernel_79970/3184400959.py:46: UserWarning: pandas only supports SQLAlchemy connectable (engine/connection) or database string URI or sqlite3 DBAPI2 connection. Other DBAPI2 objects are not tested. Please consider using SQLAlchemy.\n",
      "  df = pd.read_sql_query(query, conn)\n"
     ]
    },
    {
     "name": "stdout",
     "output_type": "stream",
     "text": [
      "First 10 rows of station:\n",
      "     station_id                         name   latitude  longitude\n",
      "0           525     Glenwood Ave & Touhy Ave  42.012701 -87.666058\n",
      "1  KA1503000012           Clark St & Lake St  41.885795 -87.631101\n",
      "2           637        Wood St & Chicago Ave  41.895634 -87.672069\n",
      "3         13216           State St & 33rd St  41.834733 -87.625827\n",
      "4         18003   Fairbanks St & Superior St  41.895808 -87.620253\n",
      "5  KP1705001026        LaSalle Dr & Huron St  41.894877 -87.632326\n",
      "6         13253   Lincoln Ave & Waveland Ave  41.948797 -87.675278\n",
      "7  KA1503000044         Rush St & Hubbard St  41.890173 -87.626185\n",
      "8  KA1504000140  Winchester Ave & Elston Ave  41.924037 -87.676415\n",
      "9  TA1305000032      Clinton St & Madison St  41.882242 -87.641066\n",
      "First 10 rows of trip:\n",
      "            trip_id  rideable_type            start_at            ended_at  \\\n",
      "0  89E7AA6C29227EFF   classic_bike 2021-02-12 16:14:56 2021-02-12 16:21:43   \n",
      "1  0FEFDE2603568365   classic_bike 2021-02-14 17:52:38 2021-02-14 18:12:09   \n",
      "2  E6159D746B2DBB91  electric_bike 2021-02-09 19:10:18 2021-02-09 19:19:10   \n",
      "3  B32D3199F1C2E75B   classic_bike 2021-02-02 17:49:41 2021-02-02 17:54:06   \n",
      "4  83E463F23575F4BF  electric_bike 2021-02-23 15:07:23 2021-02-23 15:22:37   \n",
      "5  BDAA7E3494E8D545  electric_bike 2021-02-24 15:43:33 2021-02-24 15:49:05   \n",
      "6  A772742351171257   classic_bike 2021-02-01 17:47:42 2021-02-01 17:48:33   \n",
      "7  295476889D9B79F8   classic_bike 2021-02-11 18:33:53 2021-02-11 18:35:09   \n",
      "8  362087194BA4CC9A   classic_bike 2021-02-27 15:13:39 2021-02-27 15:36:36   \n",
      "9  21630F715038CCB0   classic_bike 2021-02-20 08:59:42 2021-02-20 09:17:04   \n",
      "\n",
      "  start_station_id end_station_id  rider_id  \n",
      "0              525            660     71934  \n",
      "1              525          16806     47854  \n",
      "2     KA1503000012   TA1305000029     70870  \n",
      "3              637   TA1305000034     58974  \n",
      "4            13216   TA1309000055     39608  \n",
      "5            18003   KP1705001026     36267  \n",
      "6     KP1705001026   KP1705001026     50104  \n",
      "7            18003          18003     19618  \n",
      "8     KP1705001026   KP1705001026     16732  \n",
      "9     KP1705001026   KP1705001026     57068  \n"
     ]
    },
    {
     "name": "stderr",
     "output_type": "stream",
     "text": [
      "/tmp/ipykernel_79970/3184400959.py:46: UserWarning: pandas only supports SQLAlchemy connectable (engine/connection) or database string URI or sqlite3 DBAPI2 connection. Other DBAPI2 objects are not tested. Please consider using SQLAlchemy.\n",
      "  df = pd.read_sql_query(query, conn)\n"
     ]
    }
   ],
   "source": [
    "import psycopg2\n",
    "import pandas as pd\n",
    "\n",
    "# Define your PostgreSQL connection details\n",
    "host = \"bikeridersproject.postgres.database.azure.com\"\n",
    "username = \"\"\n",
    "password = \"\"\n",
    "database = \"udacityproject\"\n",
    "\n",
    "# Establish a connection to the PostgreSQL database\n",
    "conn = psycopg2.connect(\n",
    "    host=host,\n",
    "    user=username,\n",
    "    password=password,\n",
    "    dbname=database\n",
    ")\n",
    "\n",
    "\n",
    "\n",
    "# Create a cursor object to interact with the database\n",
    "cursor = conn.cursor()\n",
    "print(\"connection established\")\n",
    "\n",
    "\n",
    "\n",
    "def checking():\n",
    "\n",
    "    # Verify the data by running some queries\n",
    "    # Example: Check the number of rows in each table\n",
    "    queries = {\n",
    "        \"rider\": \"SELECT COUNT(*) FROM rider;\",\n",
    "        \"pt\": \"SELECT COUNT(*) FROM pt;\",\n",
    "        \"station\": \"SELECT COUNT(*) FROM station;\",\n",
    "        \"trip\": \"SELECT COUNT(*) FROM trip;\"\n",
    "    }\n",
    "\n",
    "    # Execute queries and print the results\n",
    "    for table, query in queries.items():\n",
    "        cursor.execute(query)\n",
    "        result = cursor.fetchone()\n",
    "        print(f\"Number of rows in {table}: {result[0]}\")\n",
    "\n",
    "    # Example: View the first 10 rows of each table\n",
    "    for table in queries.keys():\n",
    "        query = f\"SELECT * FROM {table} LIMIT 10;\"\n",
    "        df = pd.read_sql_query(query, conn)\n",
    "        print(f\"First 10 rows of {table}:\")\n",
    "        print(df)\n",
    "\n",
    "checking()\n",
    "# Close the cursor and the connection\n",
    "cursor.close()\n",
    "conn.close()\n"
   ]
  }
 ],
 "metadata": {
  "kernelspec": {
   "display_name": "venv",
   "language": "python",
   "name": "python3"
  },
  "language_info": {
   "codemirror_mode": {
    "name": "ipython",
    "version": 3
   },
   "file_extension": ".py",
   "mimetype": "text/x-python",
   "name": "python",
   "nbconvert_exporter": "python",
   "pygments_lexer": "ipython3",
   "version": "3.11.6"
  }
 },
 "nbformat": 4,
 "nbformat_minor": 2
}
